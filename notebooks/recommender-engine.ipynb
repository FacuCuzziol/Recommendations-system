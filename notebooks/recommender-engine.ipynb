{
 "metadata": {
  "language_info": {
   "codemirror_mode": {
    "name": "ipython",
    "version": 3
   },
   "file_extension": ".py",
   "mimetype": "text/x-python",
   "name": "python",
   "nbconvert_exporter": "python",
   "pygments_lexer": "ipython3",
   "version": "3.8.5-final"
  },
  "orig_nbformat": 2,
  "kernelspec": {
   "name": "python3",
   "display_name": "Python 3.8.5 64-bit ('env': venv)",
   "metadata": {
    "interpreter": {
     "hash": "db514bc24fcbbfeb0dac57766bdf6c0200bf4879e98c57349776c9050727591f"
    }
   }
  }
 },
 "nbformat": 4,
 "nbformat_minor": 2,
 "cells": [
  {
   "cell_type": "code",
   "execution_count": 15,
   "metadata": {},
   "outputs": [],
   "source": [
    "import gzip\n",
    "import json\n",
    "import gc\n",
    "import math\n",
    "import random\n",
    "import tensorflow as tf\n",
    "import numpy as np\n",
    "from collections import Counter, defaultdict\n",
    "from tqdm.notebook import tqdm\n",
    "from pathlib import Path\n",
    "from sklearn.model_selection import train_test_split\n",
    "from collections import Counter\n",
    "import pandas as pd\n",
    "import matplotlib.pyplot as plt\n",
    "import plotly.express as px\n"
   ]
  },
  {
   "cell_type": "code",
   "execution_count": 11,
   "metadata": {},
   "outputs": [],
   "source": []
  },
  {
   "cell_type": "code",
   "execution_count": 2,
   "metadata": {},
   "outputs": [],
   "source": [
    "%%capture\n",
    "!pip install funpymodeling\n",
    "from funpymodeling.data_prep import todf\n",
    "from funpymodeling.exploratory import freq_tbl, profiling_num,status"
   ]
  },
  {
   "cell_type": "code",
   "execution_count": 6,
   "metadata": {},
   "outputs": [
    {
     "output_type": "execute_result",
     "data": {
      "text/plain": [
       "'/home/facundo/Documents/Recommender-System'"
      ]
     },
     "metadata": {},
     "execution_count": 6
    }
   ],
   "source": [
    "import os\n",
    "os.getcwd()"
   ]
  },
  {
   "cell_type": "code",
   "execution_count": 5,
   "metadata": {},
   "outputs": [],
   "source": [
    "# Load metadata from selected Items\n",
    "\n",
    "import pickle\n",
    "pkl_item_selec = 'meli_files/df_item_selec.pkl'\n",
    "with open(pkl_item_selec,'rb') as f:\n",
    "    df_items_select = pickle.load(f)\n",
    "items_selection = df_items_select['item_id'].tolist()"
   ]
  },
  {
   "cell_type": "code",
   "execution_count": 9,
   "metadata": {},
   "outputs": [
    {
     "output_type": "execute_result",
     "data": {
      "text/plain": [
       "    item_id                                              title  \\\n",
       "6    369182     Funda Cartera Caseme 007 2 En 1 Huawei P30 Pro   \n",
       "13  1714262  Case Nintendo Galaxy M10, M20, M30, A10, A30, ...   \n",
       "32   500249                                Audifonos Jbl Pucks   \n",
       "58   390343                  Samsung Galaxy M10 Nuevo Dual Sim   \n",
       "67  1079828  Case Escandalosos  Huawei Y5 2018 Y6 2018 Y7 2...   \n",
       "\n",
       "               domain_id product_id    price category_id condition  \n",
       "6   MLM-CELLPHONE_COVERS       None   589.00   MLM167442       new  \n",
       "13  MLM-CELLPHONE_COVERS       None   249.00   MLM167442       new  \n",
       "32        MLM-HEADPHONES       None  1000.00     MLM7533       new  \n",
       "58        MLM-CELLPHONES   14648835  2999.00     MLM1055       new  \n",
       "67  MLM-CELLPHONE_COVERS       None   249.00   MLM167442       new  "
      ],
      "text/html": "<div>\n<style scoped>\n    .dataframe tbody tr th:only-of-type {\n        vertical-align: middle;\n    }\n\n    .dataframe tbody tr th {\n        vertical-align: top;\n    }\n\n    .dataframe thead th {\n        text-align: right;\n    }\n</style>\n<table border=\"1\" class=\"dataframe\">\n  <thead>\n    <tr style=\"text-align: right;\">\n      <th></th>\n      <th>item_id</th>\n      <th>title</th>\n      <th>domain_id</th>\n      <th>product_id</th>\n      <th>price</th>\n      <th>category_id</th>\n      <th>condition</th>\n    </tr>\n  </thead>\n  <tbody>\n    <tr>\n      <th>6</th>\n      <td>369182</td>\n      <td>Funda Cartera Caseme 007 2 En 1 Huawei P30 Pro</td>\n      <td>MLM-CELLPHONE_COVERS</td>\n      <td>None</td>\n      <td>589.00</td>\n      <td>MLM167442</td>\n      <td>new</td>\n    </tr>\n    <tr>\n      <th>13</th>\n      <td>1714262</td>\n      <td>Case Nintendo Galaxy M10, M20, M30, A10, A30, ...</td>\n      <td>MLM-CELLPHONE_COVERS</td>\n      <td>None</td>\n      <td>249.00</td>\n      <td>MLM167442</td>\n      <td>new</td>\n    </tr>\n    <tr>\n      <th>32</th>\n      <td>500249</td>\n      <td>Audifonos Jbl Pucks</td>\n      <td>MLM-HEADPHONES</td>\n      <td>None</td>\n      <td>1000.00</td>\n      <td>MLM7533</td>\n      <td>new</td>\n    </tr>\n    <tr>\n      <th>58</th>\n      <td>390343</td>\n      <td>Samsung Galaxy M10 Nuevo Dual Sim</td>\n      <td>MLM-CELLPHONES</td>\n      <td>14648835</td>\n      <td>2999.00</td>\n      <td>MLM1055</td>\n      <td>new</td>\n    </tr>\n    <tr>\n      <th>67</th>\n      <td>1079828</td>\n      <td>Case Escandalosos  Huawei Y5 2018 Y6 2018 Y7 2...</td>\n      <td>MLM-CELLPHONE_COVERS</td>\n      <td>None</td>\n      <td>249.00</td>\n      <td>MLM167442</td>\n      <td>new</td>\n    </tr>\n  </tbody>\n</table>\n</div>"
     },
     "metadata": {},
     "execution_count": 9
    }
   ],
   "source": [
    "df_items_select.head()"
   ]
  },
  {
   "cell_type": "code",
   "execution_count": 12,
   "metadata": {},
   "outputs": [
    {
     "output_type": "execute_result",
     "data": {
      "text/plain": [
       "MLB-CELLPHONES               38390\n",
       "MLB-HEADPHONES               11328\n",
       "MLM-CELLPHONES                8035\n",
       "MLM-CELLPHONE_COVERS          7475\n",
       "MLB-CELLPHONE_SCREENS         6595\n",
       "MLM-HEADPHONES                5731\n",
       "MLB-CELLPHONE_ACCESSORIES     3177\n",
       "MLM-CELLPHONE_ACCESSORIES     1720\n",
       "Name: domain_id, dtype: int64"
      ]
     },
     "metadata": {},
     "execution_count": 12
    }
   ],
   "source": [
    "df_items_select['domain_id'].value_counts()"
   ]
  },
  {
   "source": [
    "We can also do the same, but with the freq_tbl function, and it also gives us info about the percetage that each domain represents"
   ],
   "cell_type": "markdown",
   "metadata": {}
  },
  {
   "source": [
    "domain_freq = freq_tbl(df_items_select['domain_id'])\n",
    "domain_freq"
   ],
   "cell_type": "code",
   "metadata": {},
   "execution_count": 14,
   "outputs": [
    {
     "output_type": "execute_result",
     "data": {
      "text/plain": [
       "                   domain_id  frequency  percentage  cumulative_perc\n",
       "0             MLB-CELLPHONES      38390    0.465610         0.465610\n",
       "1             MLB-HEADPHONES      11328    0.137391         0.603001\n",
       "2             MLM-CELLPHONES       8035    0.097452         0.700452\n",
       "3       MLM-CELLPHONE_COVERS       7475    0.090660         0.791112\n",
       "4      MLB-CELLPHONE_SCREENS       6595    0.079987         0.871099\n",
       "5             MLM-HEADPHONES       5731    0.069508         0.940607\n",
       "6  MLB-CELLPHONE_ACCESSORIES       3177    0.038532         0.979139\n",
       "7  MLM-CELLPHONE_ACCESSORIES       1720    0.020861         1.000000"
      ],
      "text/html": "<div>\n<style scoped>\n    .dataframe tbody tr th:only-of-type {\n        vertical-align: middle;\n    }\n\n    .dataframe tbody tr th {\n        vertical-align: top;\n    }\n\n    .dataframe thead th {\n        text-align: right;\n    }\n</style>\n<table border=\"1\" class=\"dataframe\">\n  <thead>\n    <tr style=\"text-align: right;\">\n      <th></th>\n      <th>domain_id</th>\n      <th>frequency</th>\n      <th>percentage</th>\n      <th>cumulative_perc</th>\n    </tr>\n  </thead>\n  <tbody>\n    <tr>\n      <th>0</th>\n      <td>MLB-CELLPHONES</td>\n      <td>38390</td>\n      <td>0.465610</td>\n      <td>0.465610</td>\n    </tr>\n    <tr>\n      <th>1</th>\n      <td>MLB-HEADPHONES</td>\n      <td>11328</td>\n      <td>0.137391</td>\n      <td>0.603001</td>\n    </tr>\n    <tr>\n      <th>2</th>\n      <td>MLM-CELLPHONES</td>\n      <td>8035</td>\n      <td>0.097452</td>\n      <td>0.700452</td>\n    </tr>\n    <tr>\n      <th>3</th>\n      <td>MLM-CELLPHONE_COVERS</td>\n      <td>7475</td>\n      <td>0.090660</td>\n      <td>0.791112</td>\n    </tr>\n    <tr>\n      <th>4</th>\n      <td>MLB-CELLPHONE_SCREENS</td>\n      <td>6595</td>\n      <td>0.079987</td>\n      <td>0.871099</td>\n    </tr>\n    <tr>\n      <th>5</th>\n      <td>MLM-HEADPHONES</td>\n      <td>5731</td>\n      <td>0.069508</td>\n      <td>0.940607</td>\n    </tr>\n    <tr>\n      <th>6</th>\n      <td>MLB-CELLPHONE_ACCESSORIES</td>\n      <td>3177</td>\n      <td>0.038532</td>\n      <td>0.979139</td>\n    </tr>\n    <tr>\n      <th>7</th>\n      <td>MLM-CELLPHONE_ACCESSORIES</td>\n      <td>1720</td>\n      <td>0.020861</td>\n      <td>1.000000</td>\n    </tr>\n  </tbody>\n</table>\n</div>"
     },
     "metadata": {},
     "execution_count": 14
    }
   ]
  },
  {
   "cell_type": "code",
   "execution_count": 19,
   "metadata": {},
   "outputs": [
    {
     "output_type": "display_data",
     "data": {
      "application/vnd.plotly.v1+json": {
       "config": {
        "plotlyServerURL": "https://plot.ly"
       },
       "data": [
        {
         "alignmentgroup": "True",
         "bingroup": "y",
         "histfunc": "sum",
         "hovertemplate": "sum of frequency=%{x}<br>domain_id=%{y}<extra></extra>",
         "legendgroup": "",
         "marker": {
          "color": "#636efa"
         },
         "name": "",
         "offsetgroup": "",
         "orientation": "h",
         "showlegend": false,
         "type": "histogram",
         "x": [
          38390,
          11328,
          8035,
          7475,
          6595,
          5731,
          3177,
          1720
         ],
         "xaxis": "x",
         "y": [
          "MLB-CELLPHONES",
          "MLB-HEADPHONES",
          "MLM-CELLPHONES",
          "MLM-CELLPHONE_COVERS",
          "MLB-CELLPHONE_SCREENS",
          "MLM-HEADPHONES",
          "MLB-CELLPHONE_ACCESSORIES",
          "MLM-CELLPHONE_ACCESSORIES"
         ],
         "yaxis": "y"
        }
       ],
       "layout": {
        "barmode": "relative",
        "legend": {
         "tracegroupgap": 0
        },
        "margin": {
         "t": 60
        },
        "template": {
         "data": {
          "bar": [
           {
            "error_x": {
             "color": "#2a3f5f"
            },
            "error_y": {
             "color": "#2a3f5f"
            },
            "marker": {
             "line": {
              "color": "#E5ECF6",
              "width": 0.5
             }
            },
            "type": "bar"
           }
          ],
          "barpolar": [
           {
            "marker": {
             "line": {
              "color": "#E5ECF6",
              "width": 0.5
             }
            },
            "type": "barpolar"
           }
          ],
          "carpet": [
           {
            "aaxis": {
             "endlinecolor": "#2a3f5f",
             "gridcolor": "white",
             "linecolor": "white",
             "minorgridcolor": "white",
             "startlinecolor": "#2a3f5f"
            },
            "baxis": {
             "endlinecolor": "#2a3f5f",
             "gridcolor": "white",
             "linecolor": "white",
             "minorgridcolor": "white",
             "startlinecolor": "#2a3f5f"
            },
            "type": "carpet"
           }
          ],
          "choropleth": [
           {
            "colorbar": {
             "outlinewidth": 0,
             "ticks": ""
            },
            "type": "choropleth"
           }
          ],
          "contour": [
           {
            "colorbar": {
             "outlinewidth": 0,
             "ticks": ""
            },
            "colorscale": [
             [
              0,
              "#0d0887"
             ],
             [
              0.1111111111111111,
              "#46039f"
             ],
             [
              0.2222222222222222,
              "#7201a8"
             ],
             [
              0.3333333333333333,
              "#9c179e"
             ],
             [
              0.4444444444444444,
              "#bd3786"
             ],
             [
              0.5555555555555556,
              "#d8576b"
             ],
             [
              0.6666666666666666,
              "#ed7953"
             ],
             [
              0.7777777777777778,
              "#fb9f3a"
             ],
             [
              0.8888888888888888,
              "#fdca26"
             ],
             [
              1,
              "#f0f921"
             ]
            ],
            "type": "contour"
           }
          ],
          "contourcarpet": [
           {
            "colorbar": {
             "outlinewidth": 0,
             "ticks": ""
            },
            "type": "contourcarpet"
           }
          ],
          "heatmap": [
           {
            "colorbar": {
             "outlinewidth": 0,
             "ticks": ""
            },
            "colorscale": [
             [
              0,
              "#0d0887"
             ],
             [
              0.1111111111111111,
              "#46039f"
             ],
             [
              0.2222222222222222,
              "#7201a8"
             ],
             [
              0.3333333333333333,
              "#9c179e"
             ],
             [
              0.4444444444444444,
              "#bd3786"
             ],
             [
              0.5555555555555556,
              "#d8576b"
             ],
             [
              0.6666666666666666,
              "#ed7953"
             ],
             [
              0.7777777777777778,
              "#fb9f3a"
             ],
             [
              0.8888888888888888,
              "#fdca26"
             ],
             [
              1,
              "#f0f921"
             ]
            ],
            "type": "heatmap"
           }
          ],
          "heatmapgl": [
           {
            "colorbar": {
             "outlinewidth": 0,
             "ticks": ""
            },
            "colorscale": [
             [
              0,
              "#0d0887"
             ],
             [
              0.1111111111111111,
              "#46039f"
             ],
             [
              0.2222222222222222,
              "#7201a8"
             ],
             [
              0.3333333333333333,
              "#9c179e"
             ],
             [
              0.4444444444444444,
              "#bd3786"
             ],
             [
              0.5555555555555556,
              "#d8576b"
             ],
             [
              0.6666666666666666,
              "#ed7953"
             ],
             [
              0.7777777777777778,
              "#fb9f3a"
             ],
             [
              0.8888888888888888,
              "#fdca26"
             ],
             [
              1,
              "#f0f921"
             ]
            ],
            "type": "heatmapgl"
           }
          ],
          "histogram": [
           {
            "marker": {
             "colorbar": {
              "outlinewidth": 0,
              "ticks": ""
             }
            },
            "type": "histogram"
           }
          ],
          "histogram2d": [
           {
            "colorbar": {
             "outlinewidth": 0,
             "ticks": ""
            },
            "colorscale": [
             [
              0,
              "#0d0887"
             ],
             [
              0.1111111111111111,
              "#46039f"
             ],
             [
              0.2222222222222222,
              "#7201a8"
             ],
             [
              0.3333333333333333,
              "#9c179e"
             ],
             [
              0.4444444444444444,
              "#bd3786"
             ],
             [
              0.5555555555555556,
              "#d8576b"
             ],
             [
              0.6666666666666666,
              "#ed7953"
             ],
             [
              0.7777777777777778,
              "#fb9f3a"
             ],
             [
              0.8888888888888888,
              "#fdca26"
             ],
             [
              1,
              "#f0f921"
             ]
            ],
            "type": "histogram2d"
           }
          ],
          "histogram2dcontour": [
           {
            "colorbar": {
             "outlinewidth": 0,
             "ticks": ""
            },
            "colorscale": [
             [
              0,
              "#0d0887"
             ],
             [
              0.1111111111111111,
              "#46039f"
             ],
             [
              0.2222222222222222,
              "#7201a8"
             ],
             [
              0.3333333333333333,
              "#9c179e"
             ],
             [
              0.4444444444444444,
              "#bd3786"
             ],
             [
              0.5555555555555556,
              "#d8576b"
             ],
             [
              0.6666666666666666,
              "#ed7953"
             ],
             [
              0.7777777777777778,
              "#fb9f3a"
             ],
             [
              0.8888888888888888,
              "#fdca26"
             ],
             [
              1,
              "#f0f921"
             ]
            ],
            "type": "histogram2dcontour"
           }
          ],
          "mesh3d": [
           {
            "colorbar": {
             "outlinewidth": 0,
             "ticks": ""
            },
            "type": "mesh3d"
           }
          ],
          "parcoords": [
           {
            "line": {
             "colorbar": {
              "outlinewidth": 0,
              "ticks": ""
             }
            },
            "type": "parcoords"
           }
          ],
          "pie": [
           {
            "automargin": true,
            "type": "pie"
           }
          ],
          "scatter": [
           {
            "marker": {
             "colorbar": {
              "outlinewidth": 0,
              "ticks": ""
             }
            },
            "type": "scatter"
           }
          ],
          "scatter3d": [
           {
            "line": {
             "colorbar": {
              "outlinewidth": 0,
              "ticks": ""
             }
            },
            "marker": {
             "colorbar": {
              "outlinewidth": 0,
              "ticks": ""
             }
            },
            "type": "scatter3d"
           }
          ],
          "scattercarpet": [
           {
            "marker": {
             "colorbar": {
              "outlinewidth": 0,
              "ticks": ""
             }
            },
            "type": "scattercarpet"
           }
          ],
          "scattergeo": [
           {
            "marker": {
             "colorbar": {
              "outlinewidth": 0,
              "ticks": ""
             }
            },
            "type": "scattergeo"
           }
          ],
          "scattergl": [
           {
            "marker": {
             "colorbar": {
              "outlinewidth": 0,
              "ticks": ""
             }
            },
            "type": "scattergl"
           }
          ],
          "scattermapbox": [
           {
            "marker": {
             "colorbar": {
              "outlinewidth": 0,
              "ticks": ""
             }
            },
            "type": "scattermapbox"
           }
          ],
          "scatterpolar": [
           {
            "marker": {
             "colorbar": {
              "outlinewidth": 0,
              "ticks": ""
             }
            },
            "type": "scatterpolar"
           }
          ],
          "scatterpolargl": [
           {
            "marker": {
             "colorbar": {
              "outlinewidth": 0,
              "ticks": ""
             }
            },
            "type": "scatterpolargl"
           }
          ],
          "scatterternary": [
           {
            "marker": {
             "colorbar": {
              "outlinewidth": 0,
              "ticks": ""
             }
            },
            "type": "scatterternary"
           }
          ],
          "surface": [
           {
            "colorbar": {
             "outlinewidth": 0,
             "ticks": ""
            },
            "colorscale": [
             [
              0,
              "#0d0887"
             ],
             [
              0.1111111111111111,
              "#46039f"
             ],
             [
              0.2222222222222222,
              "#7201a8"
             ],
             [
              0.3333333333333333,
              "#9c179e"
             ],
             [
              0.4444444444444444,
              "#bd3786"
             ],
             [
              0.5555555555555556,
              "#d8576b"
             ],
             [
              0.6666666666666666,
              "#ed7953"
             ],
             [
              0.7777777777777778,
              "#fb9f3a"
             ],
             [
              0.8888888888888888,
              "#fdca26"
             ],
             [
              1,
              "#f0f921"
             ]
            ],
            "type": "surface"
           }
          ],
          "table": [
           {
            "cells": {
             "fill": {
              "color": "#EBF0F8"
             },
             "line": {
              "color": "white"
             }
            },
            "header": {
             "fill": {
              "color": "#C8D4E3"
             },
             "line": {
              "color": "white"
             }
            },
            "type": "table"
           }
          ]
         },
         "layout": {
          "annotationdefaults": {
           "arrowcolor": "#2a3f5f",
           "arrowhead": 0,
           "arrowwidth": 1
          },
          "coloraxis": {
           "colorbar": {
            "outlinewidth": 0,
            "ticks": ""
           }
          },
          "colorscale": {
           "diverging": [
            [
             0,
             "#8e0152"
            ],
            [
             0.1,
             "#c51b7d"
            ],
            [
             0.2,
             "#de77ae"
            ],
            [
             0.3,
             "#f1b6da"
            ],
            [
             0.4,
             "#fde0ef"
            ],
            [
             0.5,
             "#f7f7f7"
            ],
            [
             0.6,
             "#e6f5d0"
            ],
            [
             0.7,
             "#b8e186"
            ],
            [
             0.8,
             "#7fbc41"
            ],
            [
             0.9,
             "#4d9221"
            ],
            [
             1,
             "#276419"
            ]
           ],
           "sequential": [
            [
             0,
             "#0d0887"
            ],
            [
             0.1111111111111111,
             "#46039f"
            ],
            [
             0.2222222222222222,
             "#7201a8"
            ],
            [
             0.3333333333333333,
             "#9c179e"
            ],
            [
             0.4444444444444444,
             "#bd3786"
            ],
            [
             0.5555555555555556,
             "#d8576b"
            ],
            [
             0.6666666666666666,
             "#ed7953"
            ],
            [
             0.7777777777777778,
             "#fb9f3a"
            ],
            [
             0.8888888888888888,
             "#fdca26"
            ],
            [
             1,
             "#f0f921"
            ]
           ],
           "sequentialminus": [
            [
             0,
             "#0d0887"
            ],
            [
             0.1111111111111111,
             "#46039f"
            ],
            [
             0.2222222222222222,
             "#7201a8"
            ],
            [
             0.3333333333333333,
             "#9c179e"
            ],
            [
             0.4444444444444444,
             "#bd3786"
            ],
            [
             0.5555555555555556,
             "#d8576b"
            ],
            [
             0.6666666666666666,
             "#ed7953"
            ],
            [
             0.7777777777777778,
             "#fb9f3a"
            ],
            [
             0.8888888888888888,
             "#fdca26"
            ],
            [
             1,
             "#f0f921"
            ]
           ]
          },
          "colorway": [
           "#636efa",
           "#EF553B",
           "#00cc96",
           "#ab63fa",
           "#FFA15A",
           "#19d3f3",
           "#FF6692",
           "#B6E880",
           "#FF97FF",
           "#FECB52"
          ],
          "font": {
           "color": "#2a3f5f"
          },
          "geo": {
           "bgcolor": "white",
           "lakecolor": "white",
           "landcolor": "#E5ECF6",
           "showlakes": true,
           "showland": true,
           "subunitcolor": "white"
          },
          "hoverlabel": {
           "align": "left"
          },
          "hovermode": "closest",
          "mapbox": {
           "style": "light"
          },
          "paper_bgcolor": "white",
          "plot_bgcolor": "#E5ECF6",
          "polar": {
           "angularaxis": {
            "gridcolor": "white",
            "linecolor": "white",
            "ticks": ""
           },
           "bgcolor": "#E5ECF6",
           "radialaxis": {
            "gridcolor": "white",
            "linecolor": "white",
            "ticks": ""
           }
          },
          "scene": {
           "xaxis": {
            "backgroundcolor": "#E5ECF6",
            "gridcolor": "white",
            "gridwidth": 2,
            "linecolor": "white",
            "showbackground": true,
            "ticks": "",
            "zerolinecolor": "white"
           },
           "yaxis": {
            "backgroundcolor": "#E5ECF6",
            "gridcolor": "white",
            "gridwidth": 2,
            "linecolor": "white",
            "showbackground": true,
            "ticks": "",
            "zerolinecolor": "white"
           },
           "zaxis": {
            "backgroundcolor": "#E5ECF6",
            "gridcolor": "white",
            "gridwidth": 2,
            "linecolor": "white",
            "showbackground": true,
            "ticks": "",
            "zerolinecolor": "white"
           }
          },
          "shapedefaults": {
           "line": {
            "color": "#2a3f5f"
           }
          },
          "ternary": {
           "aaxis": {
            "gridcolor": "white",
            "linecolor": "white",
            "ticks": ""
           },
           "baxis": {
            "gridcolor": "white",
            "linecolor": "white",
            "ticks": ""
           },
           "bgcolor": "#E5ECF6",
           "caxis": {
            "gridcolor": "white",
            "linecolor": "white",
            "ticks": ""
           }
          },
          "title": {
           "x": 0.05
          },
          "xaxis": {
           "automargin": true,
           "gridcolor": "white",
           "linecolor": "white",
           "ticks": "",
           "title": {
            "standoff": 15
           },
           "zerolinecolor": "white",
           "zerolinewidth": 2
          },
          "yaxis": {
           "automargin": true,
           "gridcolor": "white",
           "linecolor": "white",
           "ticks": "",
           "title": {
            "standoff": 15
           },
           "zerolinecolor": "white",
           "zerolinewidth": 2
          }
         }
        },
        "xaxis": {
         "anchor": "y",
         "domain": [
          0,
          1
         ],
         "title": {
          "text": "sum of frequency"
         }
        },
        "yaxis": {
         "anchor": "x",
         "domain": [
          0,
          1
         ],
         "title": {
          "text": "domain_id"
         }
        }
       }
      }
     },
     "metadata": {}
    }
   ],
   "source": [
    "fig = px.histogram(domain_freq,y='domain_id',x='frequency')\n",
    "fig.show()"
   ]
  },
  {
   "source": [
    "Load data for training\n"
   ],
   "cell_type": "markdown",
   "metadata": {}
  },
  {
   "cell_type": "code",
   "execution_count": 20,
   "metadata": {},
   "outputs": [],
   "source": [
    "pkl_datos = 'meli_files/data_seq.pkl'\n",
    "with open(pkl_datos,'rb') as f:\n",
    "    x_seq,y_seq = pickle.load(f)"
   ]
  },
  {
   "cell_type": "code",
   "execution_count": 21,
   "metadata": {},
   "outputs": [
    {
     "output_type": "execute_result",
     "data": {
      "text/plain": [
       "array([[      0, 1894398],\n",
       "       [      0, 1730020],\n",
       "       [1709387, 1983629],\n",
       "       ...,\n",
       "       [1702233,  165816],\n",
       "       [ 235524, 1726723],\n",
       "       [1399383,  492150]], dtype=int32)"
      ]
     },
     "metadata": {},
     "execution_count": 21
    }
   ],
   "source": [
    "x_seq"
   ]
  },
  {
   "cell_type": "code",
   "execution_count": 22,
   "metadata": {},
   "outputs": [
    {
     "output_type": "execute_result",
     "data": {
      "text/plain": [
       "array([1591096, 1310157,  699581, ...,  242012,  485683, 2059288],\n",
       "      dtype=int32)"
      ]
     },
     "metadata": {},
     "execution_count": 22
    }
   ],
   "source": [
    "y_seq"
   ]
  },
  {
   "source": [
    "### Encoding variables"
   ],
   "cell_type": "markdown",
   "metadata": {}
  },
  {
   "cell_type": "code",
   "execution_count": 23,
   "metadata": {},
   "outputs": [],
   "source": [
    "#First, we encode the x variable\n",
    "dim1,dim2 = x_seq.shape\n",
    "seq_x_flat = x_seq.flatten()\n"
   ]
  },
  {
   "cell_type": "code",
   "execution_count": 24,
   "metadata": {},
   "outputs": [],
   "source": [
    "from sklearn.preprocessing import LabelEncoder\n",
    "le_x = LabelEncoder()\n",
    "le_x.fit(seq_x_flat)\n",
    "seq_x_flat_encoded = le_x.transform(seq_x_flat)"
   ]
  },
  {
   "cell_type": "code",
   "execution_count": 26,
   "metadata": {},
   "outputs": [
    {
     "output_type": "execute_result",
     "data": {
      "text/plain": [
       "array([[    0, 12641],\n",
       "       [    0, 11521],\n",
       "       [11408, 13229],\n",
       "       ...,\n",
       "       [11361,  1076],\n",
       "       [ 1508, 11496],\n",
       "       [ 9238,  3157]])"
      ]
     },
     "metadata": {},
     "execution_count": 26
    }
   ],
   "source": [
    "#Since we applied flatten() to our data for the LabelEncoder, now we need to reshape it with its original shape\n",
    "\n",
    "seq_x_encoded = seq_x_flat_encoded.reshape([dim1,dim2])\n",
    "seq_x_encoded"
   ]
  },
  {
   "cell_type": "code",
   "execution_count": 28,
   "metadata": {},
   "outputs": [
    {
     "output_type": "execute_result",
     "data": {
      "text/plain": [
       "(44129,)"
      ]
     },
     "metadata": {},
     "execution_count": 28
    }
   ],
   "source": [
    "y_seq.shape\n",
    "#We don't need to flatten the y variable"
   ]
  },
  {
   "cell_type": "code",
   "execution_count": 29,
   "metadata": {},
   "outputs": [
    {
     "output_type": "execute_result",
     "data": {
      "text/plain": [
       "array([4869, 4007, 2093, ...,  697, 1388, 6352])"
      ]
     },
     "metadata": {},
     "execution_count": 29
    }
   ],
   "source": [
    "le_y = LabelEncoder()\n",
    "le_y.fit(y_seq)\n",
    "seq_y_encoded = le_y.transform(y_seq)\n",
    "seq_y_encoded"
   ]
  },
  {
   "cell_type": "code",
   "execution_count": 30,
   "metadata": {},
   "outputs": [
    {
     "output_type": "stream",
     "name": "stdout",
     "text": [
      "14025 6488 2\n"
     ]
    }
   ],
   "source": [
    "#Based on the given data, we set the following parameters\n",
    "N_UNIQUE_INPUT=seq_x_flat_encoded.max()+1\n",
    "N_UNIQUE_Y_ITEMS=seq_y_encoded.max()+1\n",
    "SEQ_LEN = 2\n",
    "\n",
    "print(N_UNIQUE_INPUT, N_UNIQUE_Y_ITEMS, SEQ_LEN)"
   ]
  },
  {
   "source": [
    "## Model Creation"
   ],
   "cell_type": "markdown",
   "metadata": {}
  },
  {
   "cell_type": "code",
   "execution_count": 34,
   "metadata": {},
   "outputs": [
    {
     "output_type": "stream",
     "name": "stdout",
     "text": [
      "Collecting keras\n",
      "  Downloading Keras-2.4.3-py2.py3-none-any.whl (36 kB)\n",
      "Requirement already satisfied: h5py in ./env/lib/python3.8/site-packages (from keras) (2.10.0)\n",
      "Requirement already satisfied: pyyaml in ./env/lib/python3.8/site-packages (from keras) (5.3.1)\n",
      "Requirement already satisfied: numpy>=1.9.1 in ./env/lib/python3.8/site-packages (from keras) (1.19.1)\n",
      "Requirement already satisfied: scipy>=0.14 in ./env/lib/python3.8/site-packages (from keras) (1.5.2)\n",
      "Requirement already satisfied: six in ./env/lib/python3.8/site-packages (from h5py->keras) (1.15.0)\n",
      "Installing collected packages: keras\n",
      "Successfully installed keras-2.4.3\n"
     ]
    }
   ],
   "source": [
    "!pip3 install keras"
   ]
  },
  {
   "cell_type": "code",
   "execution_count": 36,
   "metadata": {},
   "outputs": [],
   "source": [
    "from keras.layers import Input, Dense, Flatten, Input, Embedding, Add, Concatenate, Dropout\n",
    "from keras.models import Model\n",
    "from tensorflow.keras import regularizers\n",
    "from tensorflow import keras\n",
    "from keras.regularizers import l2\n"
   ]
  },
  {
   "cell_type": "code",
   "execution_count": 58,
   "metadata": {},
   "outputs": [],
   "source": [
    "input = Input(shape=(SEQ_LEN),name='item')\n",
    "x=Embedding(input_dim=N_UNIQUE_INPUT,\n",
    "                output_dim=50,\n",
    "                input_length=SEQ_LEN,name='embedding')(input)\n",
    "#Here, we could also apply Flatten()(x), but we are going to use the lambda layer, as an alternative. Instead of concatenating them, it applies the mean\n",
    "\n",
    "x= keras.layers.Lambda(lambda x:tf.reduce_mean(x,axis=1))(x)\n",
    "x=Dropout(0.3)(x)\n",
    "x=Dense(32,activation='relu',kernel_regularizer=regularizers.l2(0.001))(x)\n",
    "x=Dropout(0.3)(x)\n",
    "x=Dense(16,activation='relu',kernel_regularizer=regularizers.l2(0.001))(x)\n",
    "x=Dropout(0.3)(x)\n",
    "x=Dense(8,activation='relu',kernel_regularizer=regularizers.l2(0.001))(x)\n",
    "out_num=Dense(N_UNIQUE_Y_ITEMS,activation='softmax')(x)\n",
    "final_model = Model(inputs=input,outputs=out_num)"
   ]
  },
  {
   "cell_type": "code",
   "execution_count": 59,
   "metadata": {},
   "outputs": [
    {
     "output_type": "stream",
     "name": "stdout",
     "text": [
      "Model: \"model_3\"\n_________________________________________________________________\nLayer (type)                 Output Shape              Param #   \n=================================================================\nitem (InputLayer)            [(None, 2)]               0         \n_________________________________________________________________\nembedding (Embedding)        (None, 2, 50)             701250    \n_________________________________________________________________\nlambda_3 (Lambda)            (None, 50)                0         \n_________________________________________________________________\ndropout_7 (Dropout)          (None, 50)                0         \n_________________________________________________________________\ndense_10 (Dense)             (None, 32)                1632      \n_________________________________________________________________\ndropout_8 (Dropout)          (None, 32)                0         \n_________________________________________________________________\ndense_11 (Dense)             (None, 16)                528       \n_________________________________________________________________\ndropout_9 (Dropout)          (None, 16)                0         \n_________________________________________________________________\ndense_12 (Dense)             (None, 8)                 136       \n_________________________________________________________________\ndense_13 (Dense)             (None, 6488)              58392     \n=================================================================\nTotal params: 761,938\nTrainable params: 761,938\nNon-trainable params: 0\n_________________________________________________________________\n"
     ]
    }
   ],
   "source": [
    "final_model.summary()"
   ]
  },
  {
   "cell_type": "code",
   "execution_count": 60,
   "metadata": {},
   "outputs": [
    {
     "output_type": "execute_result",
     "data": {
      "image/png": "[encoded data removed]",
      "text/plain": [
       "<IPython.core.display.Image object>"
      ]
     },
     "metadata": {},
     "execution_count": 60
    }
   ],
   "source": [
    "keras.utils.plot_model(final_model,show_shapes=True)"
   ]
  },
  {
   "cell_type": "code",
   "execution_count": 61,
   "metadata": {},
   "outputs": [],
   "source": [
    "#We are also going to use Exponential Rate decay for our learning rate\n",
    "#ACA TENES que cambiar el learning rate\n",
    "lr_schedule = keras.optimizers.schedules.ExponentialDecay(\n",
    "    initial_learning_rate=1e-2,\n",
    "    decay_steps=10000, #cant casos train / batch size\n",
    "    decay_rate=0.9,\n",
    "    staircase=False\n",
    ")\n",
    "final_model.compile(optimizer=keras.optimizers.Adam(learning_rate=lr_schedule),\n",
    "loss=tf.keras.losses.sparse_categorical_crossentropy,\n",
    "metrics='accuracy')"
   ]
  },
  {
   "cell_type": "code",
   "execution_count": 62,
   "metadata": {},
   "outputs": [
    {
     "output_type": "stream",
     "name": "stdout",
     "text": [
      "Epoch 1/10\n",
      "552/552 [==============================] - 16s 28ms/step - loss: 8.4197 - accuracy: 0.0062 - val_loss: 8.1520 - val_accuracy: 0.0105\n",
      "Epoch 2/10\n",
      "552/552 [==============================] - 14s 25ms/step - loss: 7.9244 - accuracy: 0.0085 - val_loss: 8.1052 - val_accuracy: 0.0114\n",
      "Epoch 3/10\n",
      "552/552 [==============================] - 14s 26ms/step - loss: 7.8218 - accuracy: 0.0086 - val_loss: 8.0902 - val_accuracy: 0.0101\n",
      "Epoch 4/10\n",
      "552/552 [==============================] - 14s 25ms/step - loss: 7.7230 - accuracy: 0.0081 - val_loss: 8.0979 - val_accuracy: 0.0104\n",
      "Epoch 5/10\n",
      "552/552 [==============================] - 14s 25ms/step - loss: 7.6801 - accuracy: 0.0089 - val_loss: 8.1297 - val_accuracy: 0.0109\n",
      "Epoch 6/10\n",
      "552/552 [==============================] - 15s 27ms/step - loss: 7.6515 - accuracy: 0.0096 - val_loss: 8.1046 - val_accuracy: 0.0144\n",
      "Epoch 7/10\n",
      "552/552 [==============================] - 14s 25ms/step - loss: 7.5796 - accuracy: 0.0116 - val_loss: 8.1018 - val_accuracy: 0.0146\n",
      "Epoch 8/10\n",
      "552/552 [==============================] - 14s 25ms/step - loss: 7.5812 - accuracy: 0.0106 - val_loss: 8.1372 - val_accuracy: 0.0159\n",
      "Epoch 9/10\n",
      "552/552 [==============================] - 15s 28ms/step - loss: 7.5481 - accuracy: 0.0120 - val_loss: 8.2288 - val_accuracy: 0.0173\n",
      "Epoch 10/10\n",
      "552/552 [==============================] - 15s 26ms/step - loss: 7.5013 - accuracy: 0.0134 - val_loss: 8.1989 - val_accuracy: 0.0155\n"
     ]
    }
   ],
   "source": [
    "history = final_model.fit(x=seq_x_encoded,y=seq_y_encoded,epochs=10,batch_size=64,validation_split=0.2)"
   ]
  },
  {
   "cell_type": "code",
   "execution_count": 64,
   "metadata": {},
   "outputs": [],
   "source": [
    "#Save the model\n",
    "final_model.save('meli_files/final_modelNEW.h5')"
   ]
  },
  {
   "source": [
    "## Finding similar items with embeddings\n",
    "We need to look inside the embeddings layer"
   ],
   "cell_type": "markdown",
   "metadata": {}
  },
  {
   "cell_type": "code",
   "execution_count": 65,
   "metadata": {},
   "outputs": [
    {
     "output_type": "execute_result",
     "data": {
      "text/plain": [
       "(14025, 50)"
      ]
     },
     "metadata": {},
     "execution_count": 65
    }
   ],
   "source": [
    "embeddings = final_model.layers[1].get_weights()[0]\n",
    "embeddings.shape"
   ]
  },
  {
   "cell_type": "code",
   "execution_count": 66,
   "metadata": {},
   "outputs": [
    {
     "output_type": "execute_result",
     "data": {
      "text/plain": [
       "array([[ 0.30687016, -0.16490093, -0.5520465 , ...,  0.19188815,\n",
       "         0.3231538 ,  0.33180162],\n",
       "       [-0.44621012, -0.02557955, -0.4155053 , ..., -0.22203097,\n",
       "        -0.36610204,  0.16314581],\n",
       "       [-0.10357501, -0.09653623,  0.63586485, ...,  0.26958674,\n",
       "         0.4502883 ,  0.16066621],\n",
       "       ...,\n",
       "       [-0.46101204,  0.46724445,  0.1808241 , ..., -0.49781772,\n",
       "        -0.0133397 ,  0.01390812],\n",
       "       [ 0.03319494, -0.08036657,  0.8952831 , ...,  0.15790546,\n",
       "         0.06673274, -0.13901454],\n",
       "       [-0.15928137,  0.14409155, -0.13527563, ..., -0.18732311,\n",
       "        -0.05771157, -0.21380638]], dtype=float32)"
      ]
     },
     "metadata": {},
     "execution_count": 66
    }
   ],
   "source": [
    "embeddings"
   ]
  },
  {
   "cell_type": "code",
   "execution_count": 67,
   "metadata": {},
   "outputs": [],
   "source": [
    "pd.set_option('display.max_colwidth',0)"
   ]
  },
  {
   "source": [
    "### KDTree\n",
    "KDtree is quite useful to look for vectors inside viectors"
   ],
   "cell_type": "markdown",
   "metadata": {}
  },
  {
   "cell_type": "code",
   "execution_count": 69,
   "metadata": {},
   "outputs": [],
   "source": [
    "#Save our files for Flask\n",
    "prep_files = 'meli_files/prep_files.pkl'\n",
    "\n",
    "if False:\n",
    "    with open(prep_files,'wb') as f:\n",
    "        pickle.dump([df_items_select,le_x,embeddings],f)\n",
    "else:\n",
    "    with open(prep_files,'rb') as f:\n",
    "        df_items_select,le_x,embeddings = pickle.load(f)"
   ]
  },
  {
   "cell_type": "code",
   "execution_count": 70,
   "metadata": {},
   "outputs": [],
   "source": [
    "from scipy import spatial\n",
    "tree = spatial.KDTree(embeddings)"
   ]
  },
  {
   "source": [
    "Given an encoded id, and how many similar elements, we can look it up in the tree"
   ],
   "cell_type": "markdown",
   "metadata": {}
  },
  {
   "cell_type": "code",
   "execution_count": 91,
   "metadata": {},
   "outputs": [
    {
     "output_type": "execute_result",
     "data": {
      "text/plain": [
       "       dist  encoded\n",
       "0  0.000000  8321   \n",
       "1  0.200620  8700   \n",
       "2  0.507660  12322  \n",
       "3  0.548605  6113   "
      ],
      "text/html": "<div>\n<style scoped>\n    .dataframe tbody tr th:only-of-type {\n        vertical-align: middle;\n    }\n\n    .dataframe tbody tr th {\n        vertical-align: top;\n    }\n\n    .dataframe thead th {\n        text-align: right;\n    }\n</style>\n<table border=\"1\" class=\"dataframe\">\n  <thead>\n    <tr style=\"text-align: right;\">\n      <th></th>\n      <th>dist</th>\n      <th>encoded</th>\n    </tr>\n  </thead>\n  <tbody>\n    <tr>\n      <th>0</th>\n      <td>0.000000</td>\n      <td>8321</td>\n    </tr>\n    <tr>\n      <th>1</th>\n      <td>0.200620</td>\n      <td>8700</td>\n    </tr>\n    <tr>\n      <th>2</th>\n      <td>0.507660</td>\n      <td>12322</td>\n    </tr>\n    <tr>\n      <th>3</th>\n      <td>0.548605</td>\n      <td>6113</td>\n    </tr>\n  </tbody>\n</table>\n</div>"
     },
     "metadata": {},
     "execution_count": 91
    }
   ],
   "source": [
    "#1839\n",
    "encoded_id_check = 8321\n",
    "k_elements=3\n",
    "\n",
    "dist, encoded_id = tree.query(embeddings[encoded_id_check], k=k_elements+1)\n",
    "\n",
    "df_most_similar=pd.DataFrame({'dist':dist, 'encoded':encoded_id})\n",
    "df_most_similar"
   ]
  },
  {
   "source": [
    "We can also add a rank to this dataframe"
   ],
   "cell_type": "markdown",
   "metadata": {}
  },
  {
   "cell_type": "code",
   "execution_count": 94,
   "metadata": {},
   "outputs": [],
   "source": [
    "#First we get rid of the first id, which is the same that we entered to look for similars (that's why dist is 0.000)\n",
    "df_most_similar = df_most_similar[df_most_similar['encoded']!=encoded_id_check].copy()\n",
    "df_most_similar['rank'] = list(range(1,k_elements+1))\n",
    "\n"
   ]
  },
  {
   "cell_type": "code",
   "execution_count": 95,
   "metadata": {},
   "outputs": [
    {
     "output_type": "execute_result",
     "data": {
      "text/plain": [
       "       dist  encoded  rank\n",
       "1  0.200620  8700     1   \n",
       "2  0.507660  12322    2   \n",
       "3  0.548605  6113     3   "
      ],
      "text/html": "<div>\n<style scoped>\n    .dataframe tbody tr th:only-of-type {\n        vertical-align: middle;\n    }\n\n    .dataframe tbody tr th {\n        vertical-align: top;\n    }\n\n    .dataframe thead th {\n        text-align: right;\n    }\n</style>\n<table border=\"1\" class=\"dataframe\">\n  <thead>\n    <tr style=\"text-align: right;\">\n      <th></th>\n      <th>dist</th>\n      <th>encoded</th>\n      <th>rank</th>\n    </tr>\n  </thead>\n  <tbody>\n    <tr>\n      <th>1</th>\n      <td>0.200620</td>\n      <td>8700</td>\n      <td>1</td>\n    </tr>\n    <tr>\n      <th>2</th>\n      <td>0.507660</td>\n      <td>12322</td>\n      <td>2</td>\n    </tr>\n    <tr>\n      <th>3</th>\n      <td>0.548605</td>\n      <td>6113</td>\n      <td>3</td>\n    </tr>\n  </tbody>\n</table>\n</div>"
     },
     "metadata": {},
     "execution_count": 95
    }
   ],
   "source": [
    "df_most_similar"
   ]
  },
  {
   "cell_type": "code",
   "execution_count": 96,
   "metadata": {},
   "outputs": [
    {
     "output_type": "execute_result",
     "data": {
      "text/plain": [
       "       dist  encoded  rank  item_id\n",
       "1  0.200620  8700     1     1317531\n",
       "2  0.507660  12322    2     1849208\n",
       "3  0.548605  6113     3     925606 "
      ],
      "text/html": "<div>\n<style scoped>\n    .dataframe tbody tr th:only-of-type {\n        vertical-align: middle;\n    }\n\n    .dataframe tbody tr th {\n        vertical-align: top;\n    }\n\n    .dataframe thead th {\n        text-align: right;\n    }\n</style>\n<table border=\"1\" class=\"dataframe\">\n  <thead>\n    <tr style=\"text-align: right;\">\n      <th></th>\n      <th>dist</th>\n      <th>encoded</th>\n      <th>rank</th>\n      <th>item_id</th>\n    </tr>\n  </thead>\n  <tbody>\n    <tr>\n      <th>1</th>\n      <td>0.200620</td>\n      <td>8700</td>\n      <td>1</td>\n      <td>1317531</td>\n    </tr>\n    <tr>\n      <th>2</th>\n      <td>0.507660</td>\n      <td>12322</td>\n      <td>2</td>\n      <td>1849208</td>\n    </tr>\n    <tr>\n      <th>3</th>\n      <td>0.548605</td>\n      <td>6113</td>\n      <td>3</td>\n      <td>925606</td>\n    </tr>\n  </tbody>\n</table>\n</div>"
     },
     "metadata": {},
     "execution_count": 96
    }
   ],
   "source": [
    "#Now we get the item_id (the real one) with inverse_transform from the LabelEncoder()\n",
    "similar_item_id = le_x.inverse_transform(df_most_similar['encoded'])\n",
    "df_most_similar['item_id'] = similar_item_id \n",
    "df_most_similar"
   ]
  },
  {
   "cell_type": "code",
   "execution_count": 97,
   "metadata": {},
   "outputs": [
    {
     "output_type": "execute_result",
     "data": {
      "text/plain": [
       "        item_id                                              title  \\\n",
       "224600  1263482  Moto G7 Power Dual Sim 64 Gb Marine Blue 4 Gb Ram   \n",
       "\n",
       "             domain_id    price  \n",
       "224600  MLM-CELLPHONES  3860.00  "
      ],
      "text/html": "<div>\n<style scoped>\n    .dataframe tbody tr th:only-of-type {\n        vertical-align: middle;\n    }\n\n    .dataframe tbody tr th {\n        vertical-align: top;\n    }\n\n    .dataframe thead th {\n        text-align: right;\n    }\n</style>\n<table border=\"1\" class=\"dataframe\">\n  <thead>\n    <tr style=\"text-align: right;\">\n      <th></th>\n      <th>item_id</th>\n      <th>title</th>\n      <th>domain_id</th>\n      <th>price</th>\n    </tr>\n  </thead>\n  <tbody>\n    <tr>\n      <th>224600</th>\n      <td>1263482</td>\n      <td>Moto G7 Power Dual Sim 64 Gb Marine Blue 4 Gb Ram</td>\n      <td>MLM-CELLPHONES</td>\n      <td>3860.00</td>\n    </tr>\n  </tbody>\n</table>\n</div>"
     },
     "metadata": {},
     "execution_count": 97
    }
   ],
   "source": [
    "#Item that we want to search\n",
    "df_items_select[df_items_select['item_id'].isin(le_x.inverse_transform([encoded_id_check]))][['item_id','title','domain_id','price']]"
   ]
  },
  {
   "cell_type": "code",
   "execution_count": 100,
   "metadata": {},
   "outputs": [
    {
     "output_type": "execute_result",
     "data": {
      "text/plain": [
       "         item_id                                                       title  \\\n",
       "307901   1317531  Moto G7 Play Dual Sim 32 Gb Índigo Oscuro 2 Gb Ram           \n",
       "1283296  1849208  Celular Xiaomi Redmi Note 7 128 Gb /4 Gb Branco + Brindes    \n",
       "1926651  925606   Celular Xiaomi Redmi Note 7 128 Gb / 4 Gb Branco + Brindes   \n",
       "\n",
       "              domain_id    price  \n",
       "307901   MLM-CELLPHONES  2997.00  \n",
       "1283296  MLB-CELLPHONES  1199.00  \n",
       "1926651  MLB-CELLPHONES  1230.00  "
      ],
      "text/html": "<div>\n<style scoped>\n    .dataframe tbody tr th:only-of-type {\n        vertical-align: middle;\n    }\n\n    .dataframe tbody tr th {\n        vertical-align: top;\n    }\n\n    .dataframe thead th {\n        text-align: right;\n    }\n</style>\n<table border=\"1\" class=\"dataframe\">\n  <thead>\n    <tr style=\"text-align: right;\">\n      <th></th>\n      <th>item_id</th>\n      <th>title</th>\n      <th>domain_id</th>\n      <th>price</th>\n    </tr>\n  </thead>\n  <tbody>\n    <tr>\n      <th>307901</th>\n      <td>1317531</td>\n      <td>Moto G7 Play Dual Sim 32 Gb Índigo Oscuro 2 Gb Ram</td>\n      <td>MLM-CELLPHONES</td>\n      <td>2997.00</td>\n    </tr>\n    <tr>\n      <th>1283296</th>\n      <td>1849208</td>\n      <td>Celular Xiaomi Redmi Note 7 128 Gb /4 Gb Branco + Brindes</td>\n      <td>MLB-CELLPHONES</td>\n      <td>1199.00</td>\n    </tr>\n    <tr>\n      <th>1926651</th>\n      <td>925606</td>\n      <td>Celular Xiaomi Redmi Note 7 128 Gb / 4 Gb Branco + Brindes</td>\n      <td>MLB-CELLPHONES</td>\n      <td>1230.00</td>\n    </tr>\n  </tbody>\n</table>\n</div>"
     },
     "metadata": {},
     "execution_count": 100
    }
   ],
   "source": [
    "#Similar items that we find \n",
    "df_top_items = df_items_select[df_items_select['item_id'].isin(df_most_similar['item_id'])][['item_id','title','domain_id','price']]\n",
    "df_top_items"
   ]
  },
  {
   "cell_type": "code",
   "execution_count": 102,
   "metadata": {},
   "outputs": [
    {
     "output_type": "execute_result",
     "data": {
      "text/plain": [
       "       dist  encoded  rank  item_id  \\\n",
       "0  0.200620  8700     1     1317531   \n",
       "1  0.507660  12322    2     1849208   \n",
       "2  0.548605  6113     3     925606    \n",
       "\n",
       "                                                        title       domain_id  \\\n",
       "0  Moto G7 Play Dual Sim 32 Gb Índigo Oscuro 2 Gb Ram          MLM-CELLPHONES   \n",
       "1  Celular Xiaomi Redmi Note 7 128 Gb /4 Gb Branco + Brindes   MLB-CELLPHONES   \n",
       "2  Celular Xiaomi Redmi Note 7 128 Gb / 4 Gb Branco + Brindes  MLB-CELLPHONES   \n",
       "\n",
       "     price  \n",
       "0  2997.00  \n",
       "1  1199.00  \n",
       "2  1230.00  "
      ],
      "text/html": "<div>\n<style scoped>\n    .dataframe tbody tr th:only-of-type {\n        vertical-align: middle;\n    }\n\n    .dataframe tbody tr th {\n        vertical-align: top;\n    }\n\n    .dataframe thead th {\n        text-align: right;\n    }\n</style>\n<table border=\"1\" class=\"dataframe\">\n  <thead>\n    <tr style=\"text-align: right;\">\n      <th></th>\n      <th>dist</th>\n      <th>encoded</th>\n      <th>rank</th>\n      <th>item_id</th>\n      <th>title</th>\n      <th>domain_id</th>\n      <th>price</th>\n    </tr>\n  </thead>\n  <tbody>\n    <tr>\n      <th>0</th>\n      <td>0.200620</td>\n      <td>8700</td>\n      <td>1</td>\n      <td>1317531</td>\n      <td>Moto G7 Play Dual Sim 32 Gb Índigo Oscuro 2 Gb Ram</td>\n      <td>MLM-CELLPHONES</td>\n      <td>2997.00</td>\n    </tr>\n    <tr>\n      <th>1</th>\n      <td>0.507660</td>\n      <td>12322</td>\n      <td>2</td>\n      <td>1849208</td>\n      <td>Celular Xiaomi Redmi Note 7 128 Gb /4 Gb Branco + Brindes</td>\n      <td>MLB-CELLPHONES</td>\n      <td>1199.00</td>\n    </tr>\n    <tr>\n      <th>2</th>\n      <td>0.548605</td>\n      <td>6113</td>\n      <td>3</td>\n      <td>925606</td>\n      <td>Celular Xiaomi Redmi Note 7 128 Gb / 4 Gb Branco + Brindes</td>\n      <td>MLB-CELLPHONES</td>\n      <td>1230.00</td>\n    </tr>\n  </tbody>\n</table>\n</div>"
     },
     "metadata": {},
     "execution_count": 102
    }
   ],
   "source": [
    "pd.merge(df_most_similar,df_top_items,on='item_id').sort_values('rank')"
   ]
  },
  {
   "cell_type": "code",
   "execution_count": 103,
   "metadata": {},
   "outputs": [],
   "source": [
    "#Cosine similarity\n",
    "from numpy import dot \n",
    "from numpy.linalg import norm \n",
    "\n",
    "def cos_sim(a,b):\n",
    "    return dot(a,b)/(norm(a)*norm(b))\n",
    "    "
   ]
  },
  {
   "cell_type": "code",
   "execution_count": 104,
   "metadata": {},
   "outputs": [
    {
     "output_type": "execute_result",
     "data": {
      "text/plain": [
       "0.9833204"
      ]
     },
     "metadata": {},
     "execution_count": 104
    }
   ],
   "source": [
    "#An element that is quite similar, base on this formula\n",
    "cos_sim1 = cos_sim(embeddings[encoded_id_check],embeddings[8700])\n",
    "cos_sim1"
   ]
  },
  {
   "cell_type": "code",
   "execution_count": 107,
   "metadata": {},
   "outputs": [
    {
     "output_type": "execute_result",
     "data": {
      "text/plain": [
       "0.516615"
      ]
     },
     "metadata": {},
     "execution_count": 107
    }
   ],
   "source": [
    "cos_sim2 = cos_sim(embeddings[encoded_id_check],embeddings[7534])\n",
    "cos_sim2"
   ]
  },
  {
   "cell_type": "code",
   "execution_count": 120,
   "metadata": {},
   "outputs": [],
   "source": [
    "#We can also make a function that, based on the real id, returns 3 similar elements as recommendation\n",
    "\n",
    "def find_3similars(item_id):\n",
    "    encoded_id_in = le_x.transform([item_id])[0]\n",
    "    print('Requested id: {} - Encoded id: {}'.format(item_id,encoded_id_in))\n",
    "    item_search = pd.DataFrame(df_items_select[df_items_select['item_id']==item_id][['item_id','title','domain_id','price']])\n",
    "    \n",
    "    k_elements = 3\n",
    "    dist,encoded_id = tree.query(embeddings[encoded_id_in], k=k_elements+1)\n",
    "    df_most_similar = pd.DataFrame({'dist':dist,'encoded_id':encoded_id})\n",
    "    df_most_similar = df_most_similar[df_most_similar['encoded_id']!=encoded_id_in].copy()\n",
    "    df_most_similar['rank'] = list(range(1,k_elements+1))\n",
    "    #Now we apply the inverse_transform, to get the real id_s of the elements\n",
    "    similar_item_id = le_x.inverse_transform(df_most_similar['encoded_id'])\n",
    "    df_most_similar['item_id'] = similar_item_id\n",
    "    #Now we get info about these 3 elements\n",
    "    df_top_items = df_items_select[df_items_select['item_id'].isin(df_most_similar['item_id'])][['item_id','title','domain_id','price']]\n",
    "    #Make a marge to add the rank colum\n",
    "    df_similar_result = pd.merge(df_top_items,df_most_similar,on='item_id').sort_values('rank')\n",
    "    return df_similar_result\n",
    "\n"
   ]
  },
  {
   "cell_type": "code",
   "execution_count": 121,
   "metadata": {},
   "outputs": [
    {
     "output_type": "stream",
     "name": "stdout",
     "text": [
      "Requested id: 293400 - Encoded id: 1882\n"
     ]
    },
    {
     "output_type": "execute_result",
     "data": {
      "text/plain": [
       "   item_id                                                         title  \\\n",
       "1  1975280  Xiaomi Redmi Note 7 4 Gb 64 Gb Snapdragon 660 Octa Core 48mp   \n",
       "2  971020   Smartphone Xiaomi Mi 8 Lite 6gb/128gb Dual Capa E Pelicula     \n",
       "0  176043   Case Funda iPhone 6 7 8 Plus X Xs Max Xr Sirenita Disney 01    \n",
       "\n",
       "              domain_id    price      dist  encoded_id  rank  \n",
       "1  MLM-CELLPHONES        4995.92  0.469403  13188       1     \n",
       "2  MLB-CELLPHONES        1210.00  0.488578  6400        2     \n",
       "0  MLM-CELLPHONE_COVERS  259.00   0.497649  1143        3     "
      ],
      "text/html": "<div>\n<style scoped>\n    .dataframe tbody tr th:only-of-type {\n        vertical-align: middle;\n    }\n\n    .dataframe tbody tr th {\n        vertical-align: top;\n    }\n\n    .dataframe thead th {\n        text-align: right;\n    }\n</style>\n<table border=\"1\" class=\"dataframe\">\n  <thead>\n    <tr style=\"text-align: right;\">\n      <th></th>\n      <th>item_id</th>\n      <th>title</th>\n      <th>domain_id</th>\n      <th>price</th>\n      <th>dist</th>\n      <th>encoded_id</th>\n      <th>rank</th>\n    </tr>\n  </thead>\n  <tbody>\n    <tr>\n      <th>1</th>\n      <td>1975280</td>\n      <td>Xiaomi Redmi Note 7 4 Gb 64 Gb Snapdragon 660 Octa Core 48mp</td>\n      <td>MLM-CELLPHONES</td>\n      <td>4995.92</td>\n      <td>0.469403</td>\n      <td>13188</td>\n      <td>1</td>\n    </tr>\n    <tr>\n      <th>2</th>\n      <td>971020</td>\n      <td>Smartphone Xiaomi Mi 8 Lite 6gb/128gb Dual Capa E Pelicula</td>\n      <td>MLB-CELLPHONES</td>\n      <td>1210.00</td>\n      <td>0.488578</td>\n      <td>6400</td>\n      <td>2</td>\n    </tr>\n    <tr>\n      <th>0</th>\n      <td>176043</td>\n      <td>Case Funda iPhone 6 7 8 Plus X Xs Max Xr Sirenita Disney 01</td>\n      <td>MLM-CELLPHONE_COVERS</td>\n      <td>259.00</td>\n      <td>0.497649</td>\n      <td>1143</td>\n      <td>3</td>\n    </tr>\n  </tbody>\n</table>\n</div>"
     },
     "metadata": {},
     "execution_count": 121
    }
   ],
   "source": [
    "find_3similars(293400)"
   ]
  },
  {
   "cell_type": "code",
   "execution_count": null,
   "metadata": {},
   "outputs": [],
   "source": []
  }
 ]
}